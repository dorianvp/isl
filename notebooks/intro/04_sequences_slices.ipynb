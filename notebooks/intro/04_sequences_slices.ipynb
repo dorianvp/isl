{
 "cells": [
  {
   "cell_type": "code",
   "execution_count": 53,
   "id": "2a49c6ed-24f3-448b-be77-7aad7ff9b96d",
   "metadata": {},
   "outputs": [
    {
     "data": {
      "text/plain": [
       "array([ 0.,  1.,  2.,  3.,  4.,  5.,  6.,  7.,  8.,  9., 10.])"
      ]
     },
     "execution_count": 53,
     "metadata": {},
     "output_type": "execute_result"
    }
   ],
   "source": [
    "seq1 = np.linspace (0, 10, 11)\n",
    "seq1"
   ]
  },
  {
   "cell_type": "code",
   "execution_count": 54,
   "id": "867d82c0-81f8-4e72-befd-34ccc33709ac",
   "metadata": {},
   "outputs": [
    {
     "data": {
      "text/plain": [
       "array([0, 1, 2, 3, 4, 5, 6, 7, 8, 9])"
      ]
     },
     "execution_count": 54,
     "metadata": {},
     "output_type": "execute_result"
    }
   ],
   "source": [
    "seq2 = np.arange (0, 10)\n",
    "seq2"
   ]
  },
  {
   "cell_type": "code",
   "execution_count": 55,
   "id": "37cfb7b2-4b76-494d-9e03-f0f03e768269",
   "metadata": {},
   "outputs": [
    {
     "data": {
      "text/plain": [
       "'lo '"
      ]
     },
     "execution_count": 55,
     "metadata": {},
     "output_type": "execute_result"
    }
   ],
   "source": [
    "\"hello world\"[3:6]"
   ]
  },
  {
   "cell_type": "markdown",
   "id": "56c7627e-a0c7-4d83-955b-5068d29eb7a5",
   "metadata": {},
   "source": [
    "The above notation `[n:m]` is equal to `slice(n, m)`"
   ]
  },
  {
   "cell_type": "code",
   "execution_count": 57,
   "id": "150eff79-133c-4f19-a2cb-5477c6da0b3e",
   "metadata": {},
   "outputs": [
    {
     "data": {
      "text/plain": [
       "'lo '"
      ]
     },
     "execution_count": 57,
     "metadata": {},
     "output_type": "execute_result"
    }
   ],
   "source": [
    "\"hello world\"[slice(3,6)]"
   ]
  }
 ],
 "metadata": {
  "kernelspec": {
   "display_name": "Python 3 (ipykernel)",
   "language": "python",
   "name": "python3"
  },
  "language_info": {
   "codemirror_mode": {
    "name": "ipython",
    "version": 3
   },
   "file_extension": ".py",
   "mimetype": "text/x-python",
   "name": "python",
   "nbconvert_exporter": "python",
   "pygments_lexer": "ipython3",
   "version": "3.10.12"
  }
 },
 "nbformat": 4,
 "nbformat_minor": 5
}

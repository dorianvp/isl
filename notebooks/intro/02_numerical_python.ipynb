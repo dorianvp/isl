{
 "cells": [
  {
   "cell_type": "markdown",
   "id": "06a8e2e7-da6a-4a78-9fec-b557a20b796f",
   "metadata": {},
   "source": [
    "# Numerical Python"
   ]
  },
  {
   "cell_type": "code",
   "execution_count": 1,
   "id": "dfab985e-8c59-447f-a6e6-a0692f1543b8",
   "metadata": {},
   "outputs": [],
   "source": [
    "import numpy as np"
   ]
  },
  {
   "cell_type": "code",
   "execution_count": 2,
   "id": "0736c7a8-e9bc-44ba-a346-6185b5656d0a",
   "metadata": {},
   "outputs": [],
   "source": [
    "x = np.array ([3, 4, 5])\n",
    "y = np.array ([4, 9, 7])"
   ]
  },
  {
   "cell_type": "code",
   "execution_count": 3,
   "id": "db52faaa-0097-458a-8a98-20affe88cbf5",
   "metadata": {},
   "outputs": [
    {
     "data": {
      "text/plain": [
       "array([ 7, 13, 12])"
      ]
     },
     "execution_count": 3,
     "metadata": {},
     "output_type": "execute_result"
    }
   ],
   "source": [
    "x + y"
   ]
  },
  {
   "cell_type": "code",
   "execution_count": 4,
   "id": "4b89f80e-7097-468d-829a-357672b7e5d5",
   "metadata": {},
   "outputs": [
    {
     "data": {
      "text/plain": [
       "array([[1, 2],\n",
       "       [3, 4]])"
      ]
     },
     "execution_count": 4,
     "metadata": {},
     "output_type": "execute_result"
    }
   ],
   "source": [
    "x = np.array ([[1, 2], [3, 4]])\n",
    "x"
   ]
  },
  {
   "cell_type": "code",
   "execution_count": 5,
   "id": "81a194e8-e72c-4fcb-aa5c-1e7466c16d97",
   "metadata": {},
   "outputs": [
    {
     "data": {
      "text/plain": [
       "2"
      ]
     },
     "execution_count": 5,
     "metadata": {},
     "output_type": "execute_result"
    }
   ],
   "source": [
    "x.ndim"
   ]
  },
  {
   "cell_type": "code",
   "execution_count": 6,
   "id": "55c1b85a-6455-4128-98b2-6fea08b38586",
   "metadata": {},
   "outputs": [
    {
     "data": {
      "text/plain": [
       "dtype('int64')"
      ]
     },
     "execution_count": 6,
     "metadata": {},
     "output_type": "execute_result"
    }
   ],
   "source": [
    "x.dtype"
   ]
  },
  {
   "cell_type": "code",
   "execution_count": 7,
   "id": "33687ee9-0d1d-42dd-9609-7a79367f8d94",
   "metadata": {},
   "outputs": [
    {
     "data": {
      "text/plain": [
       "dtype('float64')"
      ]
     },
     "execution_count": 7,
     "metadata": {},
     "output_type": "execute_result"
    }
   ],
   "source": [
    "np.array ([[1, 2], [3.0, 4]]).dtype"
   ]
  },
  {
   "cell_type": "code",
   "execution_count": 9,
   "id": "1efc53fc-9551-4272-b140-b66310a19091",
   "metadata": {},
   "outputs": [
    {
     "data": {
      "text/plain": [
       "dtype('float64')"
      ]
     },
     "execution_count": 9,
     "metadata": {},
     "output_type": "execute_result"
    }
   ],
   "source": [
    "np.array ([[1, 2], [3, 4]], float).dtype"
   ]
  },
  {
   "cell_type": "code",
   "execution_count": 10,
   "id": "6f7a665d-71d9-4a5b-939a-5d92b09d6ef9",
   "metadata": {},
   "outputs": [
    {
     "data": {
      "text/plain": [
       "(2, 2)"
      ]
     },
     "execution_count": 10,
     "metadata": {},
     "output_type": "execute_result"
    }
   ],
   "source": [
    "x.shape"
   ]
  },
  {
   "cell_type": "code",
   "execution_count": 11,
   "id": "85788219-2f92-44c3-9dc4-c80d3fcaa08b",
   "metadata": {},
   "outputs": [
    {
     "data": {
      "text/plain": [
       "10"
      ]
     },
     "execution_count": 11,
     "metadata": {},
     "output_type": "execute_result"
    }
   ],
   "source": [
    "x = np.array ([1, 2, 3, 4])\n",
    "np.sum(x)"
   ]
  },
  {
   "cell_type": "code",
   "execution_count": 12,
   "id": "aeea65dd-f53d-4539-98f2-3f139518497a",
   "metadata": {},
   "outputs": [
    {
     "name": "stdout",
     "output_type": "stream",
     "text": [
      "beginning x:\n",
      " [1 2 3 4 5 6]\n",
      "reshaped x:\n",
      " [[1 2 3]\n",
      " [4 5 6]]\n"
     ]
    }
   ],
   "source": [
    "x = np.array ([1, 2, 3, 4, 5, 6])\n",
    "print('beginning x:\\n', x)\n",
    "x_reshape = x.reshape ((2, 3))\n",
    "print('reshaped x:\\n', x_reshape)"
   ]
  },
  {
   "cell_type": "code",
   "execution_count": 13,
   "id": "4b6fa0c0-1d4d-4023-af64-3acd3b37d374",
   "metadata": {},
   "outputs": [
    {
     "data": {
      "text/plain": [
       "1"
      ]
     },
     "execution_count": 13,
     "metadata": {},
     "output_type": "execute_result"
    }
   ],
   "source": [
    "x_reshape [0, 0]"
   ]
  },
  {
   "cell_type": "code",
   "execution_count": 14,
   "id": "30bcdcb2-1429-4f5d-aca7-e43bb3179f85",
   "metadata": {},
   "outputs": [
    {
     "data": {
      "text/plain": [
       "6"
      ]
     },
     "execution_count": 14,
     "metadata": {},
     "output_type": "execute_result"
    }
   ],
   "source": [
    "x_reshape [1, 2]"
   ]
  },
  {
   "cell_type": "code",
   "execution_count": 15,
   "id": "eadcb1af-c61c-49fe-b30c-05b0c39eaad5",
   "metadata": {},
   "outputs": [
    {
     "name": "stdout",
     "output_type": "stream",
     "text": [
      "x before we modify x_reshape :\n",
      " [1 2 3 4 5 6]\n",
      "x_reshape before we modify x_reshape :\n",
      " [[1 2 3]\n",
      " [4 5 6]]\n",
      "x_reshape after we modify its top left element :\n",
      " [[5 2 3]\n",
      " [4 5 6]]\n",
      "x after we modify top left element of x_reshape :\n",
      " [5 2 3 4 5 6]\n"
     ]
    }
   ],
   "source": [
    "print('x before we modify x_reshape :\\n', x)\n",
    "print('x_reshape before we modify x_reshape :\\n', x_reshape)\n",
    "x_reshape [0, 0] = 5\n",
    "print('x_reshape after we modify its top left element :\\n',\n",
    "x_reshape)\n",
    "print('x after we modify top left element of x_reshape :\\n', x)"
   ]
  },
  {
   "cell_type": "code",
   "execution_count": 16,
   "id": "fdc242d2-bc07-4bc8-bb71-eee112b756c4",
   "metadata": {},
   "outputs": [
    {
     "data": {
      "text/plain": [
       "((2, 3),\n",
       " 2,\n",
       " array([[5, 4],\n",
       "        [2, 5],\n",
       "        [3, 6]]))"
      ]
     },
     "execution_count": 16,
     "metadata": {},
     "output_type": "execute_result"
    }
   ],
   "source": [
    "x_reshape.shape , x_reshape.ndim , x_reshape.T"
   ]
  },
  {
   "cell_type": "code",
   "execution_count": 17,
   "id": "d8ebe447-2340-4515-9c97-6040a2ced1d6",
   "metadata": {},
   "outputs": [
    {
     "data": {
      "text/plain": [
       "array([2.23606798, 1.41421356, 1.73205081, 2.        , 2.23606798,\n",
       "       2.44948974])"
      ]
     },
     "execution_count": 17,
     "metadata": {},
     "output_type": "execute_result"
    }
   ],
   "source": [
    "np.sqrt(x)"
   ]
  },
  {
   "cell_type": "code",
   "execution_count": 18,
   "id": "e17a79a9-a1b7-4a54-8634-9446f32096a0",
   "metadata": {},
   "outputs": [
    {
     "data": {
      "text/plain": [
       "array([25,  4,  9, 16, 25, 36])"
      ]
     },
     "execution_count": 18,
     "metadata": {},
     "output_type": "execute_result"
    }
   ],
   "source": [
    "x**2"
   ]
  },
  {
   "cell_type": "code",
   "execution_count": 19,
   "id": "75ed099c-0bb4-494d-a91d-b9edbd21bf80",
   "metadata": {},
   "outputs": [
    {
     "data": {
      "text/plain": [
       "array([2.23606798, 1.41421356, 1.73205081, 2.        , 2.23606798,\n",
       "       2.44948974])"
      ]
     },
     "execution_count": 19,
     "metadata": {},
     "output_type": "execute_result"
    }
   ],
   "source": [
    "x**0.5"
   ]
  },
  {
   "cell_type": "code",
   "execution_count": 20,
   "id": "7c480901-9731-469c-ad18-672bef3abce8",
   "metadata": {},
   "outputs": [
    {
     "data": {
      "text/plain": [
       "array([ 0.1917456 ,  0.06839631, -0.79202755, -0.19565405, -0.79793428,\n",
       "        0.63382211,  1.61828353, -0.38051763,  0.3590475 , -1.52779062,\n",
       "        0.33551371, -0.38497161, -0.36001123, -2.78879857,  0.65195377,\n",
       "        1.92156065,  1.74439944,  0.52760532, -1.7250737 ,  0.62506206,\n",
       "       -2.5874288 ,  0.86225899,  1.69754066,  1.20813451, -0.85056433,\n",
       "        0.23966773,  0.30308158, -1.28701288,  0.73486545,  1.46059532,\n",
       "        1.20473002, -0.0080212 ,  0.602999  , -0.27729639,  0.62863592,\n",
       "        1.27690496,  0.71012734, -0.60136837, -2.06461417,  2.15928085,\n",
       "        0.56274368, -0.78319211, -1.28189495,  0.03934104,  2.02114658,\n",
       "        1.67948909, -0.58747559, -2.52707647,  0.7596975 ,  0.67758626])"
      ]
     },
     "execution_count": 20,
     "metadata": {},
     "output_type": "execute_result"
    }
   ],
   "source": [
    "x = np.random.normal(size =50)\n",
    "x"
   ]
  },
  {
   "cell_type": "code",
   "execution_count": 21,
   "id": "a897158e-ebd5-4bb4-b401-ed58679f7163",
   "metadata": {},
   "outputs": [],
   "source": [
    "y = x + np.random.normal(loc=50, scale=1, size =50)"
   ]
  },
  {
   "cell_type": "code",
   "execution_count": 22,
   "id": "67d69e2b-8779-4c21-accb-1fe66f68c2ae",
   "metadata": {},
   "outputs": [
    {
     "data": {
      "text/plain": [
       "array([[1.        , 0.78271593],\n",
       "       [0.78271593, 1.        ]])"
      ]
     },
     "execution_count": 22,
     "metadata": {},
     "output_type": "execute_result"
    }
   ],
   "source": [
    "np.corrcoef(x, y)"
   ]
  },
  {
   "cell_type": "code",
   "execution_count": 26,
   "id": "131cc97a-40b6-48c2-bb21-b361e8efb98a",
   "metadata": {},
   "outputs": [
    {
     "name": "stdout",
     "output_type": "stream",
     "text": [
      "[-8.35320064  5.98535099]\n",
      "[-6.81821128  8.95198434]\n"
     ]
    }
   ],
   "source": [
    "print(np.random.normal(scale=5,size =2))\n",
    "print(np.random.normal(scale=5,size =2))"
   ]
  },
  {
   "cell_type": "markdown",
   "id": "a4c35fa0-49ee-4156-808e-8b515d7258f4",
   "metadata": {},
   "source": [
    "### We use a default seed for the rng"
   ]
  },
  {
   "cell_type": "code",
   "execution_count": 27,
   "id": "436add05-75c2-4a08-b3bc-d7bf8fffd025",
   "metadata": {},
   "outputs": [
    {
     "name": "stdout",
     "output_type": "stream",
     "text": [
      "[ 4.09482632 -1.07485605]\n",
      "[ 4.09482632 -1.07485605]\n"
     ]
    }
   ],
   "source": [
    "rng = np.random.default_rng (1303)\n",
    "print(rng.normal(scale=5, size =2))\n",
    "rng2 = np.random.default_rng (1303)\n",
    "print(rng2.normal(scale=5, size =2))"
   ]
  },
  {
   "cell_type": "code",
   "execution_count": 28,
   "id": "1e23e147-e9b7-4dee-930e-53aa14ccdf35",
   "metadata": {},
   "outputs": [
    {
     "data": {
      "text/plain": [
       "(-0.1126795190952861, -0.1126795190952861)"
      ]
     },
     "execution_count": 28,
     "metadata": {},
     "output_type": "execute_result"
    }
   ],
   "source": [
    "rng = np.random.default_rng (3)\n",
    "y = rng.standard_normal (10)\n",
    "np.mean(y), y.mean ()"
   ]
  },
  {
   "cell_type": "code",
   "execution_count": 29,
   "id": "a82c166f-7dee-4e0d-b079-976e81db3db0",
   "metadata": {},
   "outputs": [
    {
     "data": {
      "text/plain": [
       "(2.7243406406465125, 2.7243406406465125, 2.7243406406465125)"
      ]
     },
     "execution_count": 29,
     "metadata": {},
     "output_type": "execute_result"
    }
   ],
   "source": [
    "np.var(y), y.var(), np.mean ((y - y.mean ())**2)"
   ]
  },
  {
   "cell_type": "code",
   "execution_count": 30,
   "id": "faff13b4-cd1d-43fd-a933-cf8f7bdfab9e",
   "metadata": {},
   "outputs": [
    {
     "data": {
      "text/plain": [
       "array([[ 0.22578661, -0.35263079, -0.28128742],\n",
       "       [-0.66804635, -1.05515055, -0.39080098],\n",
       "       [ 0.48194539, -0.23855361,  0.9577587 ],\n",
       "       [-0.19980213,  0.02425957,  1.54582085],\n",
       "       [ 0.54510552, -0.50522874, -0.18283897],\n",
       "       [ 0.54052513,  1.93508803, -0.26962033],\n",
       "       [-0.24355868,  1.0023136 , -0.88645994],\n",
       "       [-0.29172023,  0.88253897,  0.58035002],\n",
       "       [ 0.0915167 ,  0.67010435, -2.82816231],\n",
       "       [ 1.02130682, -0.95964476, -1.66861984]])"
      ]
     },
     "execution_count": 30,
     "metadata": {},
     "output_type": "execute_result"
    }
   ],
   "source": [
    "X = rng.standard_normal ((10, 3))\n",
    "X"
   ]
  },
  {
   "cell_type": "code",
   "execution_count": 31,
   "id": "1c83e6eb-ed6b-416f-8b4a-e8706836b30d",
   "metadata": {},
   "outputs": [
    {
     "data": {
      "text/plain": [
       "array([ 0.15030588,  0.14030961, -0.34238602])"
      ]
     },
     "execution_count": 31,
     "metadata": {},
     "output_type": "execute_result"
    }
   ],
   "source": [
    "X.mean(axis =0)"
   ]
  },
  {
   "cell_type": "code",
   "execution_count": 32,
   "id": "335ab588-4cdd-451a-bf99-c7bd697272b8",
   "metadata": {},
   "outputs": [
    {
     "data": {
      "text/plain": [
       "array([ 0.15030588,  0.14030961, -0.34238602])"
      ]
     },
     "execution_count": 32,
     "metadata": {},
     "output_type": "execute_result"
    }
   ],
   "source": [
    "X.mean(0)"
   ]
  }
 ],
 "metadata": {
  "kernelspec": {
   "display_name": "Python 3 (ipykernel)",
   "language": "python",
   "name": "python3"
  },
  "language_info": {
   "codemirror_mode": {
    "name": "ipython",
    "version": 3
   },
   "file_extension": ".py",
   "mimetype": "text/x-python",
   "name": "python",
   "nbconvert_exporter": "python",
   "pygments_lexer": "ipython3",
   "version": "3.10.12"
  }
 },
 "nbformat": 4,
 "nbformat_minor": 5
}

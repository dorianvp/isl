{
 "cells": [
  {
   "cell_type": "markdown",
   "id": "705348b6-f5a5-4869-9be8-797dd0261b7f",
   "metadata": {},
   "source": [
    "# Indexing Data"
   ]
  },
  {
   "cell_type": "code",
   "execution_count": 59,
   "id": "be507e03-85ae-41ac-b17f-61c453f0fd41",
   "metadata": {},
   "outputs": [
    {
     "data": {
      "text/plain": [
       "array([[ 0,  1,  2,  3],\n",
       "       [ 4,  5,  6,  7],\n",
       "       [ 8,  9, 10, 11],\n",
       "       [12, 13, 14, 15]])"
      ]
     },
     "execution_count": 59,
     "metadata": {},
     "output_type": "execute_result"
    }
   ],
   "source": [
    "A = np.array(np.arange (16)).reshape ((4, 4))\n",
    "A"
   ]
  },
  {
   "cell_type": "code",
   "execution_count": 60,
   "id": "f1056655-b422-42b2-9bec-e48288365a92",
   "metadata": {},
   "outputs": [
    {
     "data": {
      "text/plain": [
       "6"
      ]
     },
     "execution_count": 60,
     "metadata": {},
     "output_type": "execute_result"
    }
   ],
   "source": [
    "A[1,2]"
   ]
  },
  {
   "cell_type": "code",
   "execution_count": 61,
   "id": "e00c9b55-dbe0-47b1-9233-6c50f136f413",
   "metadata": {},
   "outputs": [
    {
     "data": {
      "text/plain": [
       "array([[ 4,  5,  6,  7],\n",
       "       [12, 13, 14, 15]])"
      ]
     },
     "execution_count": 61,
     "metadata": {},
     "output_type": "execute_result"
    }
   ],
   "source": [
    "A[[1 ,3]]"
   ]
  },
  {
   "cell_type": "code",
   "execution_count": 62,
   "id": "eeb309d2-bd08-419a-b53f-67ea4fa2d220",
   "metadata": {},
   "outputs": [
    {
     "data": {
      "text/plain": [
       "array([[ 0,  2],\n",
       "       [ 4,  6],\n",
       "       [ 8, 10],\n",
       "       [12, 14]])"
      ]
     },
     "execution_count": 62,
     "metadata": {},
     "output_type": "execute_result"
    }
   ],
   "source": [
    "A[: ,[0 ,2]]"
   ]
  },
  {
   "cell_type": "code",
   "execution_count": 64,
   "id": "4e0f8067-b29f-4c64-bc41-677096e75c0d",
   "metadata": {},
   "outputs": [
    {
     "data": {
      "text/plain": [
       "array([[ 4,  6],\n",
       "       [12, 14]])"
      ]
     },
     "execution_count": 64,
     "metadata": {},
     "output_type": "execute_result"
    }
   ],
   "source": [
    "A[[1 ,3]][: ,[0 ,2]]"
   ]
  },
  {
   "cell_type": "markdown",
   "id": "a145be8b-eed7-464f-aff2-094dfb0faa7b",
   "metadata": {},
   "source": [
    "Another way of extracting a submatrix that is more efficient is using `np.ix_()`"
   ]
  },
  {
   "cell_type": "code",
   "execution_count": 65,
   "id": "3299e45b-d67a-49a8-b727-8ba96ae53ce6",
   "metadata": {},
   "outputs": [
    {
     "data": {
      "text/plain": [
       "array([[ 4,  6,  7],\n",
       "       [12, 14, 15]])"
      ]
     },
     "execution_count": 65,
     "metadata": {},
     "output_type": "execute_result"
    }
   ],
   "source": [
    "idx = np.ix_ ([1 ,3] ,[0 ,2 ,3])\n",
    "A[idx]"
   ]
  },
  {
   "cell_type": "code",
   "execution_count": 66,
   "id": "e899c8cd-c19b-43d5-9ccf-890bfdf89690",
   "metadata": {},
   "outputs": [
    {
     "data": {
      "text/plain": [
       "array([[ 4,  6],\n",
       "       [12, 14]])"
      ]
     },
     "execution_count": 66,
     "metadata": {},
     "output_type": "execute_result"
    }
   ],
   "source": [
    "A[1:4:2 ,0:3:2]"
   ]
  },
  {
   "cell_type": "markdown",
   "id": "590b6aba-ab16-46fd-9e1d-860bce0dc177",
   "metadata": {},
   "source": [
    "### **Boolean Indexing**"
   ]
  },
  {
   "cell_type": "code",
   "execution_count": 67,
   "id": "6f650861-32cb-415a-a629-12e3e3d62c7a",
   "metadata": {},
   "outputs": [
    {
     "data": {
      "text/plain": [
       "array([False, False, False, False])"
      ]
     },
     "execution_count": 67,
     "metadata": {},
     "output_type": "execute_result"
    }
   ],
   "source": [
    "keep_rows = np.zeros(A.shape [0], bool)\n",
    "keep_rows"
   ]
  },
  {
   "cell_type": "code",
   "execution_count": 68,
   "id": "1568a9d1-73e8-4faf-818e-08c958b6372c",
   "metadata": {},
   "outputs": [
    {
     "data": {
      "text/plain": [
       "array([False,  True, False,  True])"
      ]
     },
     "execution_count": 68,
     "metadata": {},
     "output_type": "execute_result"
    }
   ],
   "source": [
    "keep_rows [[1 ,3]] = True\n",
    "keep_rows"
   ]
  },
  {
   "cell_type": "code",
   "execution_count": 69,
   "id": "c74ac7d5-f684-4f0a-b5d2-c4dc7d8ac17b",
   "metadata": {},
   "outputs": [
    {
     "data": {
      "text/plain": [
       "True"
      ]
     },
     "execution_count": 69,
     "metadata": {},
     "output_type": "execute_result"
    }
   ],
   "source": [
    "np.all(keep_rows == np.array ([0 ,1 ,0 ,1]))"
   ]
  },
  {
   "cell_type": "code",
   "execution_count": 70,
   "id": "89152245-e1c2-48fe-a178-986d7fdf99ad",
   "metadata": {},
   "outputs": [
    {
     "data": {
      "text/plain": [
       "array([[0, 1, 2, 3],\n",
       "       [4, 5, 6, 7],\n",
       "       [0, 1, 2, 3],\n",
       "       [4, 5, 6, 7]])"
      ]
     },
     "execution_count": 70,
     "metadata": {},
     "output_type": "execute_result"
    }
   ],
   "source": [
    "A[np.array ([0 ,1 ,0 ,1])]"
   ]
  },
  {
   "cell_type": "code",
   "execution_count": 71,
   "id": "0cc78dfb-5583-4b68-88d3-c5bbf6bb0f22",
   "metadata": {},
   "outputs": [
    {
     "data": {
      "text/plain": [
       "array([[ 4,  5,  6,  7],\n",
       "       [12, 13, 14, 15]])"
      ]
     },
     "execution_count": 71,
     "metadata": {},
     "output_type": "execute_result"
    }
   ],
   "source": [
    "A[keep_rows]"
   ]
  },
  {
   "cell_type": "code",
   "execution_count": 73,
   "id": "0916c332-b14c-4380-b00d-0237346aca39",
   "metadata": {},
   "outputs": [
    {
     "data": {
      "text/plain": [
       "array([[ 4,  6,  7],\n",
       "       [12, 14, 15]])"
      ]
     },
     "execution_count": 73,
     "metadata": {},
     "output_type": "execute_result"
    }
   ],
   "source": [
    "keep_cols = np.zeros(A.shape[1], bool)\n",
    "keep_cols[[0, 2, 3]] = True\n",
    "idx_bool = np.ix_(keep_rows , keep_cols)\n",
    "A[idx_bool]"
   ]
  },
  {
   "cell_type": "code",
   "execution_count": 74,
   "id": "429e0537-4654-41b9-8eab-d023b059ab18",
   "metadata": {},
   "outputs": [
    {
     "data": {
      "text/plain": [
       "array([[ 4,  6,  7],\n",
       "       [12, 14, 15]])"
      ]
     },
     "execution_count": 74,
     "metadata": {},
     "output_type": "execute_result"
    }
   ],
   "source": [
    "idx_mixed = np.ix_ ([1,3], keep_cols)\n",
    "A[idx_mixed]"
   ]
  }
 ],
 "metadata": {
  "kernelspec": {
   "display_name": "Python 3 (ipykernel)",
   "language": "python",
   "name": "python3"
  },
  "language_info": {
   "codemirror_mode": {
    "name": "ipython",
    "version": 3
   },
   "file_extension": ".py",
   "mimetype": "text/x-python",
   "name": "python",
   "nbconvert_exporter": "python",
   "pygments_lexer": "ipython3",
   "version": "3.10.12"
  }
 },
 "nbformat": 4,
 "nbformat_minor": 5
}
